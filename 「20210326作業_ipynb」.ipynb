{
  "nbformat": 4,
  "nbformat_minor": 0,
  "metadata": {
    "colab": {
      "name": "「20210326作業.ipynb」",
      "provenance": [],
      "collapsed_sections": [],
      "include_colab_link": true
    },
    "kernelspec": {
      "name": "python3",
      "display_name": "Python 3"
    },
    "language_info": {
      "name": "python"
    }
  },
  "cells": [
    {
      "cell_type": "markdown",
      "metadata": {
        "id": "view-in-github",
        "colab_type": "text"
      },
      "source": [
        "<a href=\"https://colab.research.google.com/github/4070EE120/security2021/blob/main/%E3%80%8C20210326%E4%BD%9C%E6%A5%AD_ipynb%E3%80%8D.ipynb\" target=\"_parent\"><img src=\"https://colab.research.google.com/assets/colab-badge.svg\" alt=\"Open In Colab\"/></a>"
      ]
    },
    {
      "cell_type": "code",
      "metadata": {
        "id": "gxpjNyQNAnQu"
      },
      "source": [
        ""
      ],
      "execution_count": null,
      "outputs": []
    },
    {
      "cell_type": "markdown",
      "metadata": {
        "id": "pHTYQ6E0CXBS"
      },
      "source": [
        "#20210326作業"
      ]
    },
    {
      "cell_type": "markdown",
      "metadata": {
        "id": "PzRLjTvsA9gp"
      },
      "source": [
        "1.print(\"3*2*(17-2)\")會印出甚麼結果:"
      ]
    },
    {
      "cell_type": "code",
      "metadata": {
        "colab": {
          "base_uri": "https://localhost:8080/"
        },
        "id": "-iMRZmXEA4eA",
        "outputId": "9e035b37-35b2-4d64-daba-92da50124a76"
      },
      "source": [
        "print(\"3*2*(17-2)\")"
      ],
      "execution_count": null,
      "outputs": [
        {
          "output_type": "stream",
          "text": [
            "3*2*(17-2)\n"
          ],
          "name": "stdout"
        }
      ]
    },
    {
      "cell_type": "markdown",
      "metadata": {
        "id": "-6OEpyXEBdpH"
      },
      "source": [
        "2.print(3*2*(17-2))會印出甚麼結果:"
      ]
    },
    {
      "cell_type": "code",
      "metadata": {
        "colab": {
          "base_uri": "https://localhost:8080/"
        },
        "id": "9diVdiVaBigA",
        "outputId": "4d06caab-a7ea-4f98-cadd-9c245a961fe4"
      },
      "source": [
        "print(3*2*(17-2))"
      ],
      "execution_count": null,
      "outputs": [
        {
          "output_type": "stream",
          "text": [
            "90\n"
          ],
          "name": "stdout"
        }
      ]
    },
    {
      "cell_type": "markdown",
      "metadata": {
        "id": "SmE7PIRHBu2e"
      },
      "source": [
        "3.print(\"abc\"\"+\"\"def\")會印出甚麼結果:"
      ]
    },
    {
      "cell_type": "code",
      "metadata": {
        "colab": {
          "base_uri": "https://localhost:8080/"
        },
        "id": "yQAeHbRfBv3X",
        "outputId": "62be1abb-3140-4840-a491-9c8f3189d0be"
      },
      "source": [
        "print(\"abc\"\"+\"\"def\")"
      ],
      "execution_count": null,
      "outputs": [
        {
          "output_type": "stream",
          "text": [
            "abc+def\n"
          ],
          "name": "stdout"
        }
      ]
    },
    {
      "cell_type": "markdown",
      "metadata": {
        "id": "u6A6DCBsB3vb"
      },
      "source": [
        "4.print(\"abc\"+\"def\")會印出甚麼結果:"
      ]
    },
    {
      "cell_type": "code",
      "metadata": {
        "colab": {
          "base_uri": "https://localhost:8080/"
        },
        "id": "cWtQkEzsB7Se",
        "outputId": "b5945f27-6a19-40d4-bd6f-701d04ad179e"
      },
      "source": [
        "print(\"abc\"+\"def\")"
      ],
      "execution_count": null,
      "outputs": [
        {
          "output_type": "stream",
          "text": [
            "abcdef\n"
          ],
          "name": "stdout"
        }
      ]
    },
    {
      "cell_type": "markdown",
      "metadata": {
        "id": "Xri4X9zxB_nf"
      },
      "source": [
        "5.底下程式執行後結果為何?\n",
        "word = \"arttarataaa\"\n",
        "print(word.replace(\"a\", \"z\",3))"
      ]
    },
    {
      "cell_type": "code",
      "metadata": {
        "colab": {
          "base_uri": "https://localhost:8080/"
        },
        "id": "BiONicVKCBmW",
        "outputId": "1d4c9244-184e-47c3-9590-281531d46330"
      },
      "source": [
        "word = \"arttarataaa\"\n",
        "print(word.replace(\"a\", \"z\",3))"
      ],
      "execution_count": null,
      "outputs": [
        {
          "output_type": "stream",
          "text": [
            "zrttzrztaaa\n"
          ],
          "name": "stdout"
        }
      ]
    },
    {
      "cell_type": "markdown",
      "metadata": {
        "id": "f2cTFEb5CDVy"
      },
      "source": [
        "6.底下程式執行後結果為何? word = \"arttarataaa\" print(word.replace(\"a\", \"z\"))"
      ]
    },
    {
      "cell_type": "code",
      "metadata": {
        "colab": {
          "base_uri": "https://localhost:8080/"
        },
        "id": "GNM-KLGmCSSx",
        "outputId": "e8697c65-1eb3-447f-de10-daa5f9f03e09"
      },
      "source": [
        "word = \"arttarataaa\"\n",
        "print(word.replace(\"a\", \"z\"))"
      ],
      "execution_count": null,
      "outputs": [
        {
          "output_type": "stream",
          "text": [
            "zrttzrztzzz\n"
          ],
          "name": "stdout"
        }
      ]
    }
  ]
}