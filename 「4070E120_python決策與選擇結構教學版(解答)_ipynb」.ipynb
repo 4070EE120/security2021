{
  "nbformat": 4,
  "nbformat_minor": 0,
  "metadata": {
    "colab": {
      "name": "「4070E120_python決策與選擇結構教學版(解答).ipynb」",
      "provenance": [],
      "collapsed_sections": [],
      "include_colab_link": true
    },
    "kernelspec": {
      "name": "python3",
      "display_name": "Python 3"
    }
  },
  "cells": [
    {
      "cell_type": "markdown",
      "metadata": {
        "id": "view-in-github",
        "colab_type": "text"
      },
      "source": [
        "<a href=\"https://colab.research.google.com/github/4070EE120/security2021/blob/main/%E3%80%8C4070E120_python%E6%B1%BA%E7%AD%96%E8%88%87%E9%81%B8%E6%93%87%E7%B5%90%E6%A7%8B%E6%95%99%E5%AD%B8%E7%89%88(%E8%A7%A3%E7%AD%94)_ipynb%E3%80%8D.ipynb\" target=\"_parent\"><img src=\"https://colab.research.google.com/assets/colab-badge.svg\" alt=\"Open In Colab\"/></a>"
      ]
    },
    {
      "cell_type": "markdown",
      "metadata": {
        "id": "OaJKqW9Dch0Y"
      },
      "source": [
        "# python決策與選擇結構\n",
        "```\n",
        "[1]if\n",
        "[2]if ...elsif\n",
        "[3]if ...else\n",
        "[4]if ...elsif ...else\n",
        "[5]各種判斷條件\n",
        "   AND\n",
        "   OR\n",
        "```\n",
        "```\n",
        "問題:有何差別\n",
        "[2]if ...elsif\n",
        "[3]if ...else\n",
        "```\n",
        "```\n",
        "單向判斷式（if⋯）: 是非題｜對的才要做\n",
        "雙向判斷式（if⋯else）: 二選一｜一定要選的\n",
        "多向判斷式（if⋯elif⋯else）: 多選一｜一定要選的\n",
        "```\n",
        "```\n",
        "程式流程控制　之 選擇(判斷) SELECTION /DECISION\n",
        "Python 程式碼縮排\n",
        "Python 語言以冒號「:」及縮排來表示程式區塊\n",
        "縮排為 1 個 Tab 鍵或 4 個空白鍵\n",
        "https://www.w3schools.com/python/python_conditions.asp\n",
        "```\n",
        "## Python沒有switch\n",
        "```\n",
        "switch(變數名稱或運算式) {\n",
        "    case 符合數字或字元:\n",
        "        陳述句一;\n",
        "        break;\n",
        "    case 符合數字或字元:\n",
        "        陳述句二;\n",
        "        break;\n",
        "    default:\n",
        "        陳述三;\n",
        "        break;\n",
        "}\n",
        "```"
      ]
    },
    {
      "cell_type": "code",
      "metadata": {
        "id": "IG5QEWSOX5uf"
      },
      "source": [
        ""
      ],
      "execution_count": null,
      "outputs": []
    },
    {
      "cell_type": "code",
      "metadata": {
        "id": "I98sTV1gX7SV"
      },
      "source": [
        ""
      ],
      "execution_count": null,
      "outputs": []
    },
    {
      "cell_type": "code",
      "metadata": {
        "colab": {
          "base_uri": "https://localhost:8080/",
          "height": 131
        },
        "id": "hqgSH1CWTke-",
        "outputId": "16567d7a-6b51-4f64-cd9a-01b8a17d803b"
      },
      "source": [
        "switch(變數名稱或運算式) {\r\n",
        "    case 符合數字或字元:\r\n",
        "        陳述句一;\r\n",
        "        break;\r\n",
        "    case 符合數字或字元:\r\n",
        "        陳述句二;\r\n",
        "        break;\r\n",
        "    default:\r\n",
        "        陳述三;\r\n",
        "        break;\r\n",
        "}"
      ],
      "execution_count": null,
      "outputs": [
        {
          "output_type": "error",
          "ename": "SyntaxError",
          "evalue": "ignored",
          "traceback": [
            "\u001b[0;36m  File \u001b[0;32m\"<ipython-input-2-bbb51721ca49>\"\u001b[0;36m, line \u001b[0;32m1\u001b[0m\n\u001b[0;31m    switch(變數名稱或運算式) {\u001b[0m\n\u001b[0m                     ^\u001b[0m\n\u001b[0;31mSyntaxError\u001b[0m\u001b[0;31m:\u001b[0m invalid syntax\n"
          ]
        }
      ]
    },
    {
      "cell_type": "markdown",
      "metadata": {
        "id": "ATwc25Q2clcb"
      },
      "source": [
        "# [1]if\n",
        "\n",
        "底下程式執行後結果為何?\n",
        "```\n",
        "a = 33\n",
        "b = 200\n",
        "\n",
        "if b > a:\n",
        "  print(\"b is greater than a\")\n",
        "```"
      ]
    },
    {
      "cell_type": "code",
      "metadata": {
        "colab": {
          "base_uri": "https://localhost:8080/"
        },
        "id": "ORaecV9vTfPG",
        "outputId": "93b429db-f68a-4806-b8e0-042d5e7b10fc"
      },
      "source": [
        "a = 33\r\n",
        "b = 200\r\n",
        " \r\n",
        "if b > a:\r\n",
        "  print(\"b is greater than a\")"
      ],
      "execution_count": null,
      "outputs": [
        {
          "output_type": "stream",
          "text": [
            "b is greater than a\n"
          ],
          "name": "stdout"
        }
      ]
    },
    {
      "cell_type": "markdown",
      "metadata": {
        "id": "bm4GtzT5cnnj"
      },
      "source": [
        "底下程式執行後結果為何?\n",
        "```\n",
        "a = 33\n",
        "b = 20\n",
        "\n",
        "if b > a:\n",
        "  print(\"b is greater than a\")\n",
        "```"
      ]
    },
    {
      "cell_type": "markdown",
      "metadata": {
        "id": "S7C9Vh4xcqN4"
      },
      "source": [
        "# [2]if ...elsif\n",
        "\n",
        "底下程式執行後結果為何?\n",
        "```\n",
        "a = 32\n",
        "b = 33\n",
        "\n",
        "if b > a:\n",
        "  print(\"b is greater than a\")\n",
        "elif a == b:\n",
        "  print(\"a and b are equal\")\n",
        "\n",
        "```"
      ]
    },
    {
      "cell_type": "code",
      "metadata": {
        "colab": {
          "base_uri": "https://localhost:8080/"
        },
        "id": "fM_sO7hrTrTN",
        "outputId": "6797e548-f553-42ed-c513-15fa1f89629b"
      },
      "source": [
        "a = 32\r\n",
        "b = 33\r\n",
        " \r\n",
        "if b > a:\r\n",
        "  print(\"b is greater than a\")\r\n",
        "elif a == b:\r\n",
        "  print(\"a and b are equal\")\r\n",
        " \r\n",
        " "
      ],
      "execution_count": null,
      "outputs": [
        {
          "output_type": "stream",
          "text": [
            "b is greater than a\n"
          ],
          "name": "stdout"
        }
      ]
    },
    {
      "cell_type": "markdown",
      "metadata": {
        "id": "l_euwOcPctBT"
      },
      "source": [
        "底下程式執行後結果為何?\n",
        "```\n",
        "a = 33\n",
        "b = 33\n",
        "if b > a:\n",
        "  print(\"b is greater than a\")\n",
        "elif a == b:\n",
        "  print(\"a and b are equal\")\n",
        "```"
      ]
    },
    {
      "cell_type": "code",
      "metadata": {
        "colab": {
          "base_uri": "https://localhost:8080/"
        },
        "id": "K7tVjeqbTvlF",
        "outputId": "f0769e43-36d9-4866-8878-53c59c972505"
      },
      "source": [
        "a = 33\r\n",
        "b = 33\r\n",
        "if b > a:\r\n",
        "  print(\"b is greater than a\")\r\n",
        "elif a == b:\r\n",
        "  print(\"a and b are equal\")"
      ],
      "execution_count": null,
      "outputs": [
        {
          "output_type": "stream",
          "text": [
            "a and b are equal\n"
          ],
          "name": "stdout"
        }
      ]
    },
    {
      "cell_type": "markdown",
      "metadata": {
        "id": "YxeiPkFJcvfa"
      },
      "source": [
        "底下程式執行後結果為何?\n",
        "```\n",
        "a = 35\n",
        "b = 33\n",
        "\n",
        "if b > a:\n",
        "  print(\"b is greater than a\")\n",
        "elif a == b:\n",
        "  print(\"a and b are equal\")\n",
        "```"
      ]
    },
    {
      "cell_type": "code",
      "metadata": {
        "id": "6aoNa3ojTxws"
      },
      "source": [
        "a = 35\r\n",
        "b = 33\r\n",
        " \r\n",
        "if b > a:\r\n",
        "  print(\"b is greater than a\")\r\n",
        "elif a == b:\r\n",
        "  print(\"a and b are equal\")"
      ],
      "execution_count": null,
      "outputs": []
    },
    {
      "cell_type": "markdown",
      "metadata": {
        "id": "4v-m5ukFcyUp"
      },
      "source": [
        "# 雙向判斷式（if⋯else）: 二選一｜一定要選的\n",
        "\n",
        "底下程式執行後結果為何?\n",
        "```\n",
        "a = 200\n",
        "b = 33\n",
        "\n",
        "if b > a:\n",
        "  print(\"b is greater than a\")\n",
        "else:\n",
        "  print(\"b is not greater than a\")\n",
        "```"
      ]
    },
    {
      "cell_type": "code",
      "metadata": {
        "colab": {
          "base_uri": "https://localhost:8080/"
        },
        "id": "IFJs1KazT2ll",
        "outputId": "05000578-1786-4718-d562-7194c81c1d87"
      },
      "source": [
        "a = 200\r\n",
        "b = 33\r\n",
        " \r\n",
        "if b > a:\r\n",
        "  print(\"b is greater than a\")\r\n",
        "else:\r\n",
        "  print(\"b is not greater than a\")"
      ],
      "execution_count": null,
      "outputs": [
        {
          "output_type": "stream",
          "text": [
            "b is not greater than a\n"
          ],
          "name": "stdout"
        }
      ]
    },
    {
      "cell_type": "markdown",
      "metadata": {
        "id": "7S9Zpdxfc098"
      },
      "source": [
        "# [4]if ...elsif ...else  多選一｜一定要選的\n",
        "\n",
        "底下程式執行後結果為何?\n",
        "```\n",
        "a = 200\n",
        "b = 33\n",
        "\n",
        "if b > a:\n",
        "  print(\"b is greater than a\")\n",
        "elif a == b:\n",
        "  print(\"a and b are equal\")\n",
        "else:\n",
        "  print(\"a is greater than b\")\n",
        "```"
      ]
    },
    {
      "cell_type": "markdown",
      "metadata": {
        "id": "Y1IE6lhfdCql"
      },
      "source": [
        "# [5]各種判斷條件   AND  OR\n",
        "\n",
        "底下程式執行後結果為何?\n",
        "```\n",
        "#判斷是否為閏年\n",
        "\n",
        "year= eval(input(\"請輸入年\"))\n",
        "\n",
        "if ((year%400==0) or (year%4==0 and year%100!=0)):\n",
        "  print(\"{0} 是閏年\".format(year))\n",
        "else:\n",
        "  print(\"{0} 不是閏年\".format(year))\n",
        "```"
      ]
    },
    {
      "cell_type": "markdown",
      "metadata": {
        "id": "stbXjqM5dKNZ"
      },
      "source": [
        "# 歲月匆匆程式開發\n",
        "```\n",
        "輸入:年月日\n",
        "輸出:已經過了多少日\n",
        "```"
      ]
    },
    {
      "cell_type": "markdown",
      "metadata": {
        "id": "FdJMoFlmdMwp"
      },
      "source": [
        "底下程式執行後結果為何?\n",
        "```\n",
        "year, month, day = eval(input(\"請輸入年月日\"))\n",
        "year, month, day\n",
        "\n",
        "#請輸入年月日2019,5,22\n",
        "```"
      ]
    },
    {
      "cell_type": "markdown",
      "metadata": {
        "id": "c1MmiNTIdW_-"
      },
      "source": [
        "底下程式執行後結果為何?\n",
        "```\n",
        "year, month, day = eval(input(\"請輸入年月日::\"))\n",
        "```\n",
        "```\n",
        "day_month = [31, 28, 31, 30, 31, 30, 31, 31, 30, 31, 30, 31]\n",
        "\n",
        "if year%400==0 or (year%4==0 and year%100!=0):\t\n",
        "  day_month[1] = 29\n",
        "```\n",
        "```\n",
        "if month==1:\n",
        "    print(day)\n",
        "else:\n",
        "    print(sum(day_month[:month-1])+day)\n",
        "```"
      ]
    },
    {
      "cell_type": "markdown",
      "metadata": {
        "id": "wfvp-LmZrXLz"
      },
      "source": [
        "\n",
        "# 多向判斷式（if⋯elif⋯else）:收銀台程式開發\n",
        "```\n",
        "百貨公司週年慶活動血拼大打折，\n",
        "吸引很多顧客上門，\n",
        "公司決定再加碼回饋客戶，\n",
        "\n",
        "只要客戶消費\n",
        "金額在 100000 元以上就打八折，\n",
        "金額在 50000 元以上就打八五折，\n",
        "金額在 30000 元以上就打九折，\n",
        "金額在 10000 元以上就打九五折，\n",
        "金額在 10000 元以下就不打折\n",
        "\n",
        "請幫該公司設計這個收銀台的程式，\n",
        "輸入顧客購買金額後，計算顧客應付的金錢。\n",
        "```\n",
        "```\n",
        "money = int(input(\"請輸入購物金額：\"))\n",
        "\n",
        "if(money >= 10000):\n",
        "    if(money >= 100000):\n",
        "        print(money * 0.8, end=\" 元\\n\")  #八折\n",
        "    elif(money >= 50000):\n",
        "        print(money * 0.85, end=\" 元\\n\")  #八五折\n",
        "    elif(money >= 30000):\n",
        "        print(money * 0.9, end=\" 元\\n\")  #九折\n",
        "    else:\n",
        "        print(money * 0.95, end=\" 元\\n\")  #九五折\n",
        "else:\n",
        "    print(money, end=\" 元\\n\")  #未打折\n",
        "```"
      ]
    },
    {
      "cell_type": "code",
      "metadata": {
        "colab": {
          "base_uri": "https://localhost:8080/"
        },
        "id": "X7MouaXOT6IF",
        "outputId": "0c484988-1f27-4bd1-8f3d-e534ec6cbe5b"
      },
      "source": [
        "money = int(input(\"請輸入購物金額：\"))\r\n",
        " \r\n",
        "if(money >= 10000):\r\n",
        "    if(money >= 100000):\r\n",
        "        print(money * 0.8, end=\" 元\\n\")  #八折\r\n",
        "    elif(money >= 50000):\r\n",
        "        print(money * 0.85, end=\" 元\\n\")  #八五折\r\n",
        "    elif(money >= 30000):\r\n",
        "        print(money * 0.9, end=\" 元\\n\")  #九折\r\n",
        "    else:\r\n",
        "        print(money * 0.95, end=\" 元\\n\")  #九五折\r\n",
        "else:\r\n",
        "    print(money, end=\" 元\\n\")  #未打折"
      ],
      "execution_count": null,
      "outputs": [
        {
          "output_type": "stream",
          "text": [
            "請輸入購物金額：111\n",
            "111 元\n"
          ],
          "name": "stdout"
        }
      ]
    }
  ]
}